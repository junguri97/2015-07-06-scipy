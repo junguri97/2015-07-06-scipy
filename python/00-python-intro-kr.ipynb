{
 "cells": [
  {
   "cell_type": "markdown",
   "metadata": {},
   "source": [
    "# 과학을 위한 파이썬 기초"
   ]
  },
  {
   "cell_type": "markdown",
   "metadata": {},
   "source": [
    "작성: Cindee Madison, Thomas Kluyver\n",
    "기여: Justin Kitzes, Matt Davis\n",
    "번역: 이광춘 (xwMOOC)"
   ]
  },
  {
   "cell_type": "markdown",
   "metadata": {},
   "source": [
    "## 1. 개별 사물(Individual things)\n",
    "\n",
    "어떤 프로그래밍 언어에서도 가장 기본 구성요소는 변수 혹은 (특별한 경우) 객체로 불리는 \"사물(things)\"이다.\n",
    "\n",
    "파이썬에서 가장 흔한 기본 \"사물\"은 정수, 부동소수점수, 문자열, 부울, 다양한 자료형의 특수 객체가 포함된다. 이번 학습을 진행하면서 이들 모두를 만나볼 것이다."
   ]
  },
  {
   "cell_type": "markdown",
   "metadata": {},
   "source": [
    "__비법:__ 신속히 셀에 있는 코드를 실행하려면, Ctrl-Enter 키를 누른다."
   ]
  },
  {
   "cell_type": "markdown",
   "metadata": {},
   "source": [
    "__비법:__ 기존 셀 아래 신규 셀을 신속히 생성하려면, Ctrl-m 그리고 나서 b 를 타이핑한다. 셀을 생성, 삭제, 이동하는 단축키는 화면 상단 메뉴바(menuba)에 있다."
   ]
  },
  {
   "cell_type": "code",
   "execution_count": 5,
   "metadata": {
    "collapsed": false
   },
   "outputs": [
    {
     "data": {
      "text/plain": [
       "7"
      ]
     },
     "execution_count": 5,
     "metadata": {},
     "output_type": "execute_result"
    }
   ],
   "source": [
    "# 사물(thing)\n",
    "2\n",
    "3\n",
    "4\n",
    "5\n",
    "6\n",
    "7"
   ]
  },
  {
   "cell_type": "code",
   "execution_count": 1,
   "metadata": {
    "collapsed": false
   },
   "outputs": [
    {
     "name": "stdout",
     "output_type": "stream",
     "text": [
      "2\n",
      "hello\n"
     ]
    }
   ],
   "source": [
    "# print를 사용해서 동일한 셀에 사물 다수를 출력한다.\n",
    "# 문자열에는 단일 인용부호 혹은 쌍 인용부호를 모두 사용함에 유의힌다.\n",
    "print(2)\n",
    "print('hello')"
   ]
  },
  {
   "cell_type": "code",
   "execution_count": 2,
   "metadata": {
    "collapsed": false
   },
   "outputs": [
    {
     "name": "stdout",
     "output_type": "stream",
     "text": [
      "(2, 'hello', True)\n"
     ]
    }
   ],
   "source": [
    "# 사물을 변수로 저장할 수 있다.\n",
    "a = 2\n",
    "b = 'hello'\n",
    "c = True  # 부울의 경우 대소문자 구별한다.\n",
    "print(a, b, c)"
   ]
  },
  {
   "cell_type": "code",
   "execution_count": 3,
   "metadata": {
    "collapsed": false
   },
   "outputs": [
    {
     "name": "stdout",
     "output_type": "stream",
     "text": [
      "<type 'int'>\n",
      "<type 'int'>\n",
      "<type 'str'>\n",
      "<type 'str'>\n",
      "<type 'bool'>\n",
      "<type 'bool'>\n"
     ]
    }
   ],
   "source": [
    "# type 함수를 사용해서 사물의 유형(type)을 확인한다.\n",
    "print(type(a))\n",
    "print(int)\n",
    "print(type(b))\n",
    "print(str)\n",
    "print(type(c))\n",
    "print(bool)"
   ]
  },
  {
   "cell_type": "code",
   "execution_count": 4,
   "metadata": {
    "collapsed": false
   },
   "outputs": [
    {
     "name": "stdout",
     "output_type": "stream",
     "text": [
      "1\n"
     ]
    }
   ],
   "source": [
    "# 신규 변수가 이전 변수를 지칭하면 어떻게 될까?\n",
    "a = 1\n",
    "b = a\n",
    "a = 2\n",
    "## b 값은?\n",
    "print b"
   ]
  },
  {
   "cell_type": "markdown",
   "metadata": {},
   "source": [
    "## 2. 사물을 조작하는 명령어\n",
    "\n",
    "변수로 데이터를 저정하는 것만으로 그다지 유용성이 크지 않다. 즉시, 데이터와 변수 연산과 조작을 시작해보자.\n",
    "\n",
    "사물에 연산을 가하는 매우 일반적인 방법이 세가지 있다."
   ]
  },
  {
   "cell_type": "markdown",
   "metadata": {},
   "source": [
    "### 2.1 연산자(operator) 사용\n",
    "\n",
    "모든 기본 수학 연산자는 숫자에 대해 동작한다. 문자열같은 다른 사물에도 일부 유용한 연산을 수행한다. 양을 비교해서 결과로 `bool` 변수를 돌려주는 부울 연산자도 있다."
   ]
  },
  {
   "cell_type": "code",
   "execution_count": 9,
   "metadata": {
    "collapsed": false
   },
   "outputs": [
    {
     "name": "stdout",
     "output_type": "stream",
     "text": [
      "5\n",
      "6\n",
      "8\n",
      "0\n"
     ]
    }
   ],
   "source": [
    "# 표준 수학 연산자는 기대한대로 숫자에 작동한다.\n",
    "a = 2\n",
    "b = 3\n",
    "print(a + b)\n",
    "print(a * b)\n",
    "print(a ** b)  # a 에 대한 b 거듭제곱(멱승) (a^b 연산은 완전히 다른 연산(비트 xor)이다!)\n",
    "print(a / b)   # 만약 파이썬 2를 사용한다면 정수 나눗셈에 주의한다."
   ]
  },
  {
   "cell_type": "code",
   "execution_count": 10,
   "metadata": {
    "collapsed": false
   },
   "outputs": [
    {
     "name": "stdout",
     "output_type": "stream",
     "text": [
      "helloworld\n",
      "hellohellohello\n"
     ]
    }
   ],
   "source": [
    "# 문자열에 대한 연산자도 있다.\n",
    "print('hello' + 'world')\n",
    "print('hello' * 3)\n",
    "#print('hello' / 3)  # 이렇게는 할 수 없다!"
   ]
  },
  {
   "cell_type": "code",
   "execution_count": 11,
   "metadata": {
    "collapsed": false
   },
   "outputs": [
    {
     "name": "stdout",
     "output_type": "stream",
     "text": [
      "True\n",
      "True\n",
      "True\n",
      "True\n",
      "True\n"
     ]
    }
   ],
   "source": [
    "# 부울 연산자는 두 사물을 비교한다.\n",
    "a = (1 == 1)\n",
    "b = (3 == 3)\n",
    "print(a)\n",
    "print(b)\n",
    "print(a or b)\n",
    "print(a and b)\n",
    "print(a is b)"
   ]
  },
  {
   "cell_type": "markdown",
   "metadata": {},
   "source": [
    "### 2.2 함수 사용\n",
    "\n",
    "어떤 언어로도 프로그래밍을 해본 사람이면 매우 친근할 것이다. 예상한대로 작동한다."
   ]
  },
  {
   "cell_type": "code",
   "execution_count": 12,
   "metadata": {
    "collapsed": false
   },
   "outputs": [
    {
     "name": "stdout",
     "output_type": "stream",
     "text": [
      "<type 'int'>\n",
      "5\n",
      "3.0\n"
     ]
    }
   ],
   "source": [
    "# 사물을 조작하는 수천가지 함수가 있다.\n",
    "print(type(3))\n",
    "print(len('hello'))\n",
    "print(round(3.3))"
   ]
  },
  {
   "cell_type": "markdown",
   "metadata": {},
   "source": [
    "__비법:__ 함수가 무엇을 수행하는지 알아내려면, 함수 명칭치고 나서 물음표를 타이핑하면 도움말 윈도우가 짠하고 나타난다. 혹은 함수에 무슨 인자를 받아들이는지 알아내려면, 함수명을 입력하고, 여는 괄호를 하고 탭을 친다."
   ]
  },
  {
   "cell_type": "code",
   "execution_count": 13,
   "metadata": {
    "collapsed": false
   },
   "outputs": [
    {
     "data": {
      "text/plain": [
       "3.142"
      ]
     },
     "execution_count": 13,
     "metadata": {},
     "output_type": "execute_result"
    }
   ],
   "source": [
    "round?\n",
    "#round(\n",
    "round(3.14159, 3)"
   ]
  },
  {
   "cell_type": "markdown",
   "metadata": {},
   "source": [
    "__비법:__ 유용한 함수 다수가 파이썬 내장 라이브러리에 있지 않고 외부 과학 팩키지에 존재한다. 사용하려면 파이썬 노트북 (혹은 프로그램)으로 가져와야 한다. 아마도 가장 중요한 라이브러리가 `numpy` 와 `matplotlib` 이다."
   ]
  },
  {
   "cell_type": "code",
   "execution_count": 14,
   "metadata": {
    "collapsed": false
   },
   "outputs": [],
   "source": [
    "# 유용한 함수 다수가 외부 팩키지에 존재한다.\n",
    "# numpy를 만나보자.\n",
    "import numpy as np"
   ]
  },
  {
   "cell_type": "code",
   "execution_count": 18,
   "metadata": {
    "collapsed": false
   },
   "outputs": [],
   "source": [
    "# 팩키지에 무엇이 있는지 살펴보려면, 명칭과 점을 타이핑하고 탭을 친다.\n",
    "#np?\n",
    "np.isfortran?"
   ]
  },
  {
   "cell_type": "code",
   "execution_count": 20,
   "metadata": {
    "collapsed": false
   },
   "outputs": [
    {
     "name": "stdout",
     "output_type": "stream",
     "text": [
      "2.0\n",
      "3.14159265359\n",
      "1.22464679915e-16\n",
      "-1.0\n"
     ]
    }
   ],
   "source": [
    "# numpy 함수와 \"사물\" 예제가 몇개 있다.\n",
    "print(np.sqrt(4))\n",
    "print(np.pi)  # 함수가 아니고, 단지 변수다.\n",
    "print(np.sin(np.pi))\n",
    "print(np.cos(np.pi))"
   ]
  },
  {
   "cell_type": "markdown",
   "metadata": {},
   "source": [
    "### 2.3 메쏘드(method) 사용\n",
    "\n",
    "파이썬 언어로 좀더 깊이 들어가기 전에, \"객체(object)\"에 관해서 살펴보자.\n",
    "이번 워크샵에서 객체지향 프로그래밍(object oriented programming, OOP)을 가르치지 않지만 \n",
    "파이썬을 학습하면서 객체와 마주치게 된다 (사실, 정수(ints)와 문자열(strings) 같은 단순해 보이는 사물도 실제로 파이썬에서는 객체다).\n",
    "\n",
    "가장 단순한 용어로, 객체를 데이터 그 자체와 해당 데이터를 조작하는 함수를 담고 있는 작은 \"사물\" 묶음으로 볼 수 있다. 예를 들어, 파이썬 문자열은 문자 집합과 문자집합을 조작하는 다양한 함수를 담고 있는 객체다. 객체로 묶여질 때, 이러한 함수를 \"메쏘드(method)\"라고 부른다.\n",
    "\n",
    "\"일반적인\" `함수(인자)`(function(arguments)) 구문 대신에, `변수.메쏘드(인자)`(variable.method(arguments)) 구문을 사용해서 메쏘드를 호출한다."
   ]
  },
  {
   "cell_type": "code",
   "execution_count": 21,
   "metadata": {
    "collapsed": false
   },
   "outputs": [
    {
     "name": "stdout",
     "output_type": "stream",
     "text": [
      "<type 'str'>\n"
     ]
    }
   ],
   "source": [
    "# 문자열은 사실 객체다.\n",
    "a = 'hello, world'\n",
    "print(type(a))"
   ]
  },
  {
   "cell_type": "code",
   "execution_count": 22,
   "metadata": {
    "collapsed": false
   },
   "outputs": [
    {
     "name": "stdout",
     "output_type": "stream",
     "text": [
      "4\n",
      "Hello, world\n",
      "heXXo, worXd\n"
     ]
    }
   ],
   "source": [
    "# 객체는 메쏘드 묶음을 갖고 있다.\n",
    "print(a.find('o'))\n",
    "print(a.capitalize())\n",
    "print(a.replace('l', 'X'))"
   ]
  },
  {
   "cell_type": "markdown",
   "metadata": {},
   "source": [
    "### 연습 1 - 변환(Conversion)\n",
    "\n",
    "이번 학습에서, 측정값의 분산을 계산하는 프로그램을 연속해서 만들어 나간다. 이번에는 `미터단위 신장`. 첫번째 수행할 작업은 구식 측정 시스템에서 나온 신장을 변환하는 것이다.\n",
    "\n",
    "인치를 미터로 바꾸려면, 다음 수식을 사용한다 (변환율은 반올림했다)\n",
    "\n",
    "##$metre = \\frac{inches}{39}$\n",
    "\n",
    "1. `inches_in_metre`로 변환율에 해당되는 변수를 생성한다.\n",
    "1. 원하는만큼 정확하지 않게, 본인 신장을 인치단위 변수(`inches`)를 생성한다.\n",
    "1. `inches`를 `inches_in_metre`로 나누고 결과를 새로운 변수 `metres`에 저장한다.\n",
    "1. 결과값을 출력한다.\n",
    "\n",
    "__보너스__\n",
    "\n",
    "피트(feet)와 인치(inches)를 미터로 변환하세요."
   ]
  },
  {
   "cell_type": "markdown",
   "metadata": {},
   "source": [
    "__비법:__ 전체 파이썬 2 사용자를 위한 한가지 (파이썬 3에서는 바뀌었음), 정수 나눗셈 결과. 상기 변환을 명확하게 동작하게 하려면, 다음 두가지 중 하나를 취한다:\n",
    "\n",
    "1. `inches_in_metre = 39.`  (소수점을 추가해서 부동소수점형으로 자료형변환을 추가하거나, 좀더 정확하게 39.4 을 쓴다.)\n",
    "2. `from __future__ import division` -  코드 **상단**에 놓으면 정상 동작한다."
   ]
  },
  {
   "cell_type": "code",
   "execution_count": 46,
   "metadata": {
    "collapsed": false
   },
   "outputs": [
    {
     "name": "stdout",
     "output_type": "stream",
     "text": [
      "1.78205128205\n"
     ]
    }
   ],
   "source": [
    "inches_in_metre = 39\n",
    "inches = 5*12 + 9.5 # 5 피트 9.5인치\n",
    "metre = inches / inches_in_metre\n",
    "print(metre)"
   ]
  },
  {
   "cell_type": "markdown",
   "metadata": {},
   "source": [
    "## 3. 사물 모음 (Collections of things)\n",
    "\n",
    "본인 신장을 탐색하는 것도 흥미롭지만, 과학에서는 좀더 복잡한 데이터셋을 갖고 작업한다. 이번 예제에서, 신장의 특징과 분포에 관심있다. 파이썬에는 사물 집합을 다룰 수 있는 객체 다수가 제공된다.\n",
    "\n",
    "파이썬을 과학에 작업할 때 아마도 99%는 다음 네가지 유형의 모음 중 하나를 사용할 것이다: `lists`, `tuples`, `dictionaries`, `numpy arrays`. 재빨리 각각을 살펴보고, 이것을 가지고 무엇을 할 것인도 확인해 보자."
   ]
  },
  {
   "cell_type": "markdown",
   "metadata": {},
   "source": [
    "### 3.1 리스트(Lists)\n",
    "\n",
    "리스트는 아마도 가장 다루기 쉽고 가장 유연하게 자료를 담을 수 있는 용기다.\n",
    "\n",
    "리스트는 꺾쇠 괄호 `[]` 로 선언한다.\n",
    "\n",
    "리스트의 각 요소를 `a[ind]` 구문으로 선택한다."
   ]
  },
  {
   "cell_type": "code",
   "execution_count": 1,
   "metadata": {
    "collapsed": false
   },
   "outputs": [
    {
     "name": "stdout",
     "output_type": "stream",
     "text": [
      "(['blueberry', 'strawberry', 'pineapple'], <type 'list'>)\n"
     ]
    }
   ],
   "source": [
    "# 리스트를 꺾쇠 괄호 구문으로 생성한다.\n",
    "a = ['blueberry', 'strawberry', 'pineapple']\n",
    "print(a, type(a))"
   ]
  },
  {
   "cell_type": "code",
   "execution_count": 2,
   "metadata": {
    "collapsed": false
   },
   "outputs": [
    {
     "name": "stdout",
     "output_type": "stream",
     "text": [
      "blueberry\n",
      "strawberry\n"
     ]
    }
   ],
   "source": [
    "# 리스트 (그리고 모든 모음) 는 또한 꺾쇠 괄호로 색인된다.\n",
    "# 유의사항: 첫번째 색인값은 1이 아니고 0이다.\n",
    "print(a[0])\n",
    "print(a[1])"
   ]
  },
  {
   "cell_type": "code",
   "execution_count": 4,
   "metadata": {
    "collapsed": false
   },
   "outputs": [
    {
     "name": "stdout",
     "output_type": "stream",
     "text": [
      "('last item is:', 'pineapple')\n",
      "('second to last item is:', 'strawberry')\n"
     ]
    }
   ],
   "source": [
    "## 리스트 끝에서부터 계수할 수도 있다.\n",
    "print('last item is:', a[-1])\n",
    "print('second to last item is:', a[-2])"
   ]
  },
  {
   "cell_type": "code",
   "execution_count": 5,
   "metadata": {
    "collapsed": false
   },
   "outputs": [
    {
     "name": "stdout",
     "output_type": "stream",
     "text": [
      "('a =', ['blueberry', 'strawberry', 'pineapple'])\n",
      "('get first two:', ['blueberry', 'strawberry'])\n"
     ]
    }
   ],
   "source": [
    "# 색인 사이에 콜론을 사용해서 슬라이싱(slicing)해서 리스트에서 다수 항목에 접근한다.\n",
    "# 유의사항: 끝 값은 포함되지 않는다 [0,2)\n",
    "print('a =', a)\n",
    "print('get first two:', a[0:2])"
   ]
  },
  {
   "cell_type": "code",
   "execution_count": 7,
   "metadata": {
    "collapsed": false
   },
   "outputs": [
    {
     "name": "stdout",
     "output_type": "stream",
     "text": [
      "['blueberry', 'strawberry']\n",
      "['pineapple']\n",
      "['blueberry', 'strawberry', 'pineapple']\n",
      "['blueberry', 'strawberry']\n"
     ]
    }
   ],
   "source": [
    "# 만약 필요하면 시작과 끝 색인값을 제외할 수도 있다.\n",
    "print(a[:2])\n",
    "print(a[2:])\n",
    "print(a[:])\n",
    "print(a[:-1])"
   ]
  },
  {
   "cell_type": "code",
   "execution_count": 8,
   "metadata": {
    "collapsed": false
   },
   "outputs": [
    {
     "name": "stdout",
     "output_type": "stream",
     "text": [
      "['blueberry', 'strawberry', 'pineapple', 'banana']\n",
      "['blueberry', 'strawberry', 'pineapple', 'banana', [1, 2]]\n",
      "['blueberry', 'strawberry', 'pineapple', 'banana']\n"
     ]
    }
   ],
   "source": [
    "# 리스트는 다른 것과 마찬가지로 객체로 `append` 같은 메쏘드를 갖는다.\n",
    "a.append('banana')\n",
    "print(a)\n",
    "\n",
    "a.append([1,2])\n",
    "print(a)\n",
    "\n",
    "a.pop()\n",
    "print(a)"
   ]
  },
  {
   "cell_type": "markdown",
   "metadata": {},
   "source": [
    "__비법:__ 신규 파이썬 사용자를 위한 팁으로 리스트를 포함한 많은 모임(collections)은 사실 데이터 그자체가 아니라 데이터에 포인터를 저장한다.\n",
    "\n",
    "`b=a`로 설정하고 나서 `a`를 변경한 것을 기억하라?\n",
    "\n",
    "리스트에 이 작업을 실행하면 어떻게 될까?\n",
    "\n",
    "__도움말:__ `copy` 모듈을 살펴보라.\n"
   ]
  },
  {
   "cell_type": "code",
   "execution_count": 10,
   "metadata": {
    "collapsed": false
   },
   "outputs": [
    {
     "name": "stdout",
     "output_type": "stream",
     "text": [
      "('What is b?', 1)\n",
      "('original b', [1, 2, 3])\n",
      "('What is b after we change a ?', [42, 2, 3])\n",
      "[42, 2, 3]\n"
     ]
    }
   ],
   "source": [
    "a = 1\n",
    "b = a\n",
    "a = 2\n",
    "## b 값은 무얼까?\n",
    "print('What is b?', b)\n",
    "\n",
    "a = [1, 2, 3]\n",
    "b = a\n",
    "print('original b', b)\n",
    "a[0] = 42\n",
    "print('What is b after we change a ?', b)\n",
    "print(a)\n",
    "\n"
   ]
  },
  {
   "cell_type": "markdown",
   "metadata": {},
   "source": [
    "### 연습 2 - 리스트에 (미터 단위로) 다수의 신장정보를 저장한다.\n",
    "\n",
    "1. 주위에 있는 5 사람에게 키가 얼마인지 물어본다 (미터 단위).\n",
    "1. `heights` 명칭으로 리스트로 저장한다.\n",
    "1. 상기 변수 *metres* 로 계산된 본인 신장을 리스트에 덧붙인다.\n",
    "1. 리스트에서 첫번째 신장정보를 얻어 출력한다.\n",
    "\n",
    "__보너스__\n",
    "\n",
    "1. 두가지 다른 방식으로 마지막 값을 추출한다: 첫번째, 리스트에 마지막 항목에 색인을 사용한다. 둘째로, 리스트가 얼마나 긴지 알지 못한다고 가정하고 마지막 항목을 추출한다.\n",
    "\n",
    "__힌트:__ **len()** 함수를 사용해서 모임(collection)의 길이를 찾을 수 있다."
   ]
  },
  {
   "cell_type": "code",
   "execution_count": 47,
   "metadata": {
    "collapsed": false
   },
   "outputs": [
    {
     "name": "stdout",
     "output_type": "stream",
     "text": [
      "170\n",
      "('last value:', 1.7820512820512822)\n",
      "('last value 2 : ', 1.7820512820512822)\n"
     ]
    }
   ],
   "source": [
    "heights = [170, 180, 210, 165, 185]\n",
    "heights.append(metre)\n",
    "print(heights[0])\n",
    "print('last value:', heights[-1])\n",
    "print('last value 2 : ', heights[len(heights)-1])"
   ]
  },
  {
   "cell_type": "markdown",
   "metadata": {},
   "source": [
    "### 3.2 튜플(Tuples)\n",
    "\n",
    "튜플에 대해서는 그다지 많이 논의하지 않을 것이다. 다음 두가지 예외사항을 제외하고 튜플은 리스트처럼 작동한다:\n",
    "\n",
    "1. [] 대신에 () 을 사용해서 튜플을 선언한다.\n",
    "1. 튜플을 갖게 되면, 튜플 내부 요소를 변경할 수 없다. 이를 불변(immutable)이라고 부른다.\n",
    "\n",
    "파이썬 언어를 사용하면 튜플이 나오는 것을 보게 되고, 시간이 흐르면서 언제 튜플을 사용할지에 대한 감이 생기게 된다.\n",
    "\n",
    "일반적으로, 리스트 대신에 튜플을 사용하는 경우는 다음과 같다:\n",
    "\n",
    "1. coord = (x,y) 처럼 모임(collection)에 위치정보가 극도로 중요할 때 항목을 무리지을 때.\n",
    "1. 예를 들어 shape = (12,23) 처럼, 항목 정보를 우연히 혹은 실수로 변경하지 못하게 만들 때."
   ]
  },
  {
   "cell_type": "code",
   "execution_count": 11,
   "metadata": {
    "collapsed": false
   },
   "outputs": [
    {
     "name": "stdout",
     "output_type": "stream",
     "text": [
      "23\n"
     ]
    },
    {
     "ename": "TypeError",
     "evalue": "'tuple' object does not support item assignment",
     "output_type": "error",
     "traceback": [
      "\u001b[1;31m---------------------------------------------------------------------------\u001b[0m",
      "\u001b[1;31mTypeError\u001b[0m                                 Traceback (most recent call last)",
      "\u001b[1;32m<ipython-input-11-c7b77af2676f>\u001b[0m in \u001b[0;36m<module>\u001b[1;34m()\u001b[0m\n\u001b[0;32m      1\u001b[0m \u001b[0mxy\u001b[0m \u001b[1;33m=\u001b[0m \u001b[1;33m(\u001b[0m\u001b[1;36m23\u001b[0m\u001b[1;33m,\u001b[0m \u001b[1;36m45\u001b[0m\u001b[1;33m)\u001b[0m\u001b[1;33m\u001b[0m\u001b[0m\n\u001b[0;32m      2\u001b[0m \u001b[1;32mprint\u001b[0m\u001b[1;33m(\u001b[0m\u001b[0mxy\u001b[0m\u001b[1;33m[\u001b[0m\u001b[1;36m0\u001b[0m\u001b[1;33m]\u001b[0m\u001b[1;33m)\u001b[0m\u001b[1;33m\u001b[0m\u001b[0m\n\u001b[1;32m----> 3\u001b[1;33m \u001b[0mxy\u001b[0m\u001b[1;33m[\u001b[0m\u001b[1;36m0\u001b[0m\u001b[1;33m]\u001b[0m \u001b[1;33m=\u001b[0m \u001b[1;34m\"this won't work with a tuple\"\u001b[0m\u001b[1;33m\u001b[0m\u001b[0m\n\u001b[0m",
      "\u001b[1;31mTypeError\u001b[0m: 'tuple' object does not support item assignment"
     ]
    }
   ],
   "source": [
    "xy = (23, 45)\n",
    "print(xy[0])\n",
    "xy[0] = \"this won't work with a tuple\""
   ]
  },
  {
   "cell_type": "markdown",
   "metadata": {},
   "source": [
    "### 역추적(traceback) 오류 해부\n",
    "\n",
    "코드로 의도하지 않은 무언가를 실행할 때 역추적 오류가 `발생(raised)`한다. 도움이 되는 정보를 제공할 때도 있지만, 다른 많은 것처럼 항상 개발자가 원하는만큼 도움되는 정보를 주지는 못한다.\n",
    "\n",
    "상기 오류를 살펴보자:\n",
    "\n",
    "    TypeError                                 Traceback (most recent call last)\n",
    "    <ipython-input-25-4d15943dd557> in <module>()\n",
    "          1 xy = (23, 45)\n",
    "          2 xy[0]\n",
    "    ----> 3 xy[0] = 'this wont work with a tuple'\n",
    "\n",
    "    TypeError: 'tuple' object does not support item assignment\n",
    "    \n",
    "1. 실행하려는 명령어가 **TypeError** (자료형 오류)를 발생시켰다. **Type**(자료형)이 지원하지 않는 방식으로 변수를 사용했다고 제시하고 있다.\n",
    "2. 화살표 ----> 는 오류 발생지점을 가르킨다. 이 경우에 위에서부터 코드 3번째 줄에서 오류가 발생했다.\n",
    "3. 역추적 오류를 **읽는** 방법을 배운 것이 배양해야될 중요한 기술이고, 코드에 잘못된 것에 관해 어떤 질문을 해야하는지 도움을 준다."
   ]
  },
  {
   "cell_type": "markdown",
   "metadata": {},
   "source": [
    "### 3.3 딕셔너리 (Dictionaries)\n",
    "\n",
    "모임(collection)에 위치정보 대신에 명칭(혹은 다른 유형의 키)으로 사물을 저장하고 불려올 때 딕셔너리를 사용한다.\n",
    "좋은 예제가 모형 매개변수 집합으로 각각은 명칭과 값이 있다. 딕셔너리는 {}을 사용해서 선언한다."
   ]
  },
  {
   "cell_type": "code",
   "execution_count": 12,
   "metadata": {
    "collapsed": false
   },
   "outputs": [
    {
     "name": "stdout",
     "output_type": "stream",
     "text": [
      "{'inches_in_metre': 39, 'inches_in_feet': 12}\n",
      "12\n",
      "39\n"
     ]
    }
   ],
   "source": [
    "# 모형 매개변수 딕셔너리 생성\n",
    "convertors = {'inches_in_feet' : 12,\n",
    "              'inches_in_metre' : 39}\n",
    "\n",
    "print(convertors)\n",
    "print(convertors['inches_in_feet'])\n",
    "print(convertors['inches_in_metre'])"
   ]
  },
  {
   "cell_type": "code",
   "execution_count": 13,
   "metadata": {
    "collapsed": false
   },
   "outputs": [
    {
     "name": "stdout",
     "output_type": "stream",
     "text": [
      "{'inches_in_metre': 39, 'inches_in_feet': 12, 'metres_in_mile': 1609.34}\n"
     ]
    }
   ],
   "source": [
    "## 신규 키:값(key:value) 짝을 추가한다.\n",
    "convertors['metres_in_mile'] = 1609.34\n",
    "print(convertors)"
   ]
  },
  {
   "cell_type": "code",
   "execution_count": 14,
   "metadata": {
    "collapsed": false
   },
   "outputs": [
    {
     "ename": "KeyError",
     "evalue": "'blueberry'",
     "output_type": "error",
     "traceback": [
      "\u001b[1;31m---------------------------------------------------------------------------\u001b[0m",
      "\u001b[1;31mKeyError\u001b[0m                                  Traceback (most recent call last)",
      "\u001b[1;32m<ipython-input-14-4c559e44e688>\u001b[0m in \u001b[0;36m<module>\u001b[1;34m()\u001b[0m\n\u001b[0;32m      1\u001b[0m \u001b[1;31m# 키(KEY) 오류 발생\u001b[0m\u001b[1;33m\u001b[0m\u001b[1;33m\u001b[0m\u001b[0m\n\u001b[1;32m----> 2\u001b[1;33m \u001b[1;32mprint\u001b[0m\u001b[1;33m(\u001b[0m\u001b[0mconvertors\u001b[0m\u001b[1;33m[\u001b[0m\u001b[1;34m'blueberry'\u001b[0m\u001b[1;33m]\u001b[0m\u001b[1;33m)\u001b[0m\u001b[1;33m\u001b[0m\u001b[0m\n\u001b[0m",
      "\u001b[1;31mKeyError\u001b[0m: 'blueberry'"
     ]
    }
   ],
   "source": [
    "# 키(KEY) 오류 발생\n",
    "print(convertors['blueberry'])"
   ]
  },
  {
   "cell_type": "markdown",
   "metadata": {},
   "source": [
    "### 3.4 Numpy 배열 (ndarrays)\n",
    "\n",
    "numpy(넘파이) 배열 (n-차원 배열로 ndarrays로 종종 쓰여짐) 은 파이썬 핵심 라이브러리 일부는 아니지만, 과학 파이썬에 유용해서 이번 핵심 수업에 포함했다. Numpy 배열은 사물 모임으로 동일한 자료형이여만 된다. (지금까지 기술했듯이) 리스트와 유사하게 동작한다. 가장 중요한 것은 다음과 같다:\n",
    "\n",
    "1. 배열에 쉽게 요소별 연산(elementwise operations)과 행렬 대수(matrix algebra) 작업을 수행할 수 있다.\n",
    "1. 배열은 n-차원이 될 수 있다.\n",
    "1. 배열을 연결(concatenate)시킬 수 있지만, 덧붙이기(append)에 상응하는 것은 없다.\n",
    "\n",
    "배열은 리스크같은 기존 모임(collections)에서 생성할 수 있다. 혹은 몇가지 방식으로 맨땅에서 인스턴스화(instantiation)할 수 있다.\n",
    "\n",
    "과학 파이썬을 시작할 때, 아마도 언제든 가능하게 ndarrays 배열을 사용하고, 다른 자료형 모임은 특별히 사용할 이유가 있을 때 저장했다가 사용한다."
   ]
  },
  {
   "cell_type": "code",
   "execution_count": 15,
   "metadata": {
    "collapsed": false
   },
   "outputs": [],
   "source": [
    "# numpy 라이브러리를 가져와서 접근한다.\n",
    "# 라이브러리에 별명(alias)를 생성한다. numpy 에서 흔히 보게 된다.\n",
    "import numpy as np"
   ]
  },
  {
   "cell_type": "code",
   "execution_count": 16,
   "metadata": {
    "collapsed": false
   },
   "outputs": [
    {
     "name": "stdout",
     "output_type": "stream",
     "text": [
      "(array([2, 3, 4]), <type 'numpy.ndarray'>)\n",
      "(array([5, 6, 7]), <type 'numpy.ndarray'>)\n"
     ]
    }
   ],
   "source": [
    "# 리스트에서 배열을 생성한다.\n",
    "alist = [2, 3, 4]\n",
    "blist = [5, 6, 7]\n",
    "a = np.array(alist)\n",
    "b = np.array(blist)\n",
    "print(a, type(a))\n",
    "print(b, type(b))"
   ]
  },
  {
   "cell_type": "code",
   "execution_count": 17,
   "metadata": {
    "collapsed": false
   },
   "outputs": [
    {
     "name": "stdout",
     "output_type": "stream",
     "text": [
      "[ 4  9 16]\n",
      "[ 0.90929743  0.14112001 -0.7568025 ]\n",
      "[10 18 28]\n",
      "(56, 56)\n"
     ]
    }
   ],
   "source": [
    "# 배열에 산술 연산한다.\n",
    "print(a**2)\n",
    "print(np.sin(a))\n",
    "print(a * b)\n",
    "print(a.dot(b), np.dot(a, b))"
   ]
  },
  {
   "cell_type": "code",
   "execution_count": 18,
   "metadata": {
    "collapsed": false
   },
   "outputs": [
    {
     "name": "stdout",
     "output_type": "stream",
     "text": [
      "[2 3 4]\n",
      "[5 6 7]\n",
      "[False  True  True]\n",
      "[False  True False]\n",
      "[False  True  True]\n",
      "<type 'numpy.ndarray'>\n",
      "bool\n"
     ]
    }
   ],
   "source": [
    "# 부울 연산자는 배열에도 작동하고, 부울 배열을 반환한다.\n",
    "print(a)\n",
    "print(b)\n",
    "print(a > 2)\n",
    "print(b == 6)\n",
    "\n",
    "c = a > 2\n",
    "print(c)\n",
    "print(type(c))\n",
    "print(c.dtype)"
   ]
  },
  {
   "cell_type": "code",
   "execution_count": 73,
   "metadata": {
    "collapsed": false
   },
   "outputs": [
    {
     "name": "stdout",
     "output_type": "stream",
     "text": [
      "[2 3]\n",
      "[[ 0.59077018  0.31458423  0.13680323]\n",
      " [ 0.13291322  0.40832062  0.67107557]\n",
      " [ 0.70846039  0.86910307  0.24621972]]\n",
      "\n",
      "\n",
      "[[ 0.13291322  0.40832062]\n",
      " [ 0.70846039  0.86910307]]\n",
      "\n",
      "\n",
      "[[ 2.          3.          4.        ]\n",
      " [ 0.13291322  0.40832062  0.67107557]\n",
      " [ 0.70846039  0.86910307  0.24621972]]\n"
     ]
    }
   ],
   "source": [
    "# 배열 색인\n",
    "print(a[0:2])\n",
    "\n",
    "c = np.random.rand(3,3)\n",
    "print(c)\n",
    "print('\\n')\n",
    "print(c[1:3,0:2])\n",
    "\n",
    "c[0,:] = a\n",
    "print('\\n')\n",
    "print(c)"
   ]
  },
  {
   "cell_type": "code",
   "execution_count": 19,
   "metadata": {
    "collapsed": false
   },
   "outputs": [
    {
     "name": "stdout",
     "output_type": "stream",
     "text": [
      "[2 3 4]\n",
      "[5 6 7]\n",
      "[False  True  True]\n",
      "[3 4]\n",
      "[6 7]\n",
      "[ 5 77  7]\n"
     ]
    }
   ],
   "source": [
    "# 배열을 다른 부울 배열로 색인할 수도 있다.\n",
    "print(a)\n",
    "print(b)\n",
    "print(a > 2)\n",
    "print(a[a > 2])\n",
    "print(b[a > 2])\n",
    "\n",
    "b[a == 3] = 77\n",
    "print(b)"
   ]
  },
  {
   "cell_type": "code",
   "execution_count": 22,
   "metadata": {
    "collapsed": false
   },
   "outputs": [
    {
     "name": "stdout",
     "output_type": "stream",
     "text": [
      "[False  True  True]\n",
      "(3,)\n",
      "0\n"
     ]
    }
   ],
   "source": [
    "# ndarrays은 메쏘드 말고도 속성을 갖는다.\n",
    "#c.\n",
    "print(c)\n",
    "print(c.shape)\n",
    "print(c.prod())\n",
    "c.prod?\n"
   ]
  },
  {
   "cell_type": "code",
   "execution_count": 23,
   "metadata": {
    "collapsed": false
   },
   "outputs": [
    {
     "name": "stdout",
     "output_type": "stream",
     "text": [
      "(array([ 0.,  0.,  0.,  0.,  0.]), '\\n')\n",
      "(array([ 1.,  1.,  1.,  1.,  1.]), '\\n')\n",
      "(array([[ 1.,  0.,  0.,  0.,  0.],\n",
      "       [ 0.,  1.,  0.,  0.,  0.],\n",
      "       [ 0.,  0.,  1.,  0.,  0.],\n",
      "       [ 0.,  0.,  0.,  1.,  0.],\n",
      "       [ 0.,  0.,  0.,  0.,  1.]]), '\\n')\n"
     ]
    }
   ],
   "source": [
    "# 배열을 모두 0 혹은 1 로 채우는 손쉬운 방법이 있다.\n",
    "print(np.zeros(5), '\\n')\n",
    "print(np.ones(5), '\\n')\n",
    "print(np.identity(5), '\\n')"
   ]
  },
  {
   "cell_type": "code",
   "execution_count": 24,
   "metadata": {
    "collapsed": false
   },
   "outputs": [
    {
     "name": "stdout",
     "output_type": "stream",
     "text": [
      "[0 2 4 6 8]\n"
     ]
    }
   ],
   "source": [
    "# 숫자 수열로 배열을 쉽게 만들 수 있다.\n",
    "print(np.arange(0, 10, 2))"
   ]
  },
  {
   "cell_type": "markdown",
   "metadata": {},
   "source": [
    "### 연습 3 - 간단한 분석에 배열 사용하기\n",
    "\n",
    "위에서 작성한 신장 배열을 다시 들여다보자.\n",
    "\n",
    "1. 리스트를 배열로 바꾸시오.\n",
    "2. 평균을 계산하시오.\n",
    "3. 특정 값(본인 선택) 보다 큰 신장에 대해 표식하시오.\n",
    "4. 표식된 신장의 평균을 계산한다.\n",
    "\n",
    "__보너스__\n",
    "\n",
    "1. 한계값을 넘는 신장을 계수한다.\n",
    "2. mean() 함수는 `axis`를 선택옵션 인자로 받는다. 이를 통해서 다른 축에 대해 평균을 계산할 수 있다. 예를 들어, 행 혹은 칼럼. (동일한 크기가 아닌) 2차원 배열을 생성하고 행별 평균과 열별 평균을 계산한다. `shape`를 사용해서 평균이 어떻게 계산되는지 이해한다."
   ]
  },
  {
   "cell_type": "code",
   "execution_count": 92,
   "metadata": {
    "collapsed": false
   },
   "outputs": [
    {
     "name": "stdout",
     "output_type": "stream",
     "text": [
      "151.963675214\n",
      "('Mask', array([ 170.,  180.,  210.,  165.,  185.]))\n",
      "('Mask Mean', 182.0)\n",
      "('How many', 5)\n"
     ]
    }
   ],
   "source": [
    "heights_array = np.array(heights)\n",
    "print(heights_array.mean())\n",
    "print('Mask', heights_array[heights_array > 130])\n",
    "print('Mask Mean', heights_array[heights_array>130].mean())\n",
    "print('How many', len(heights_array[heights_array>150]))\n"
   ]
  },
  {
   "cell_type": "markdown",
   "metadata": {},
   "source": [
    "## 4. 반복하기\n",
    "\n",
    "지금까지 수행한 모든 것은 원칙적으로 수작업 계산이다. 이번 절과 다음 절에서 자동으로 계산을 수행하도록 프로그래밍 언어 힘을 이용한다.\n",
    "\n",
    "반복하는 방법부터 시작한다. 반복하는 가장 일반적인 방법은 `for` 루프와 `while` 루프다. (배열의 모든 요소처럼) 모임(collection)에 모든 항목에 대해 순환하고자 할 때 파이썬 `for` 루프가 유용하다. `while` 루프는 특정 조건이 만족될 때까지 무한 순환하고자 할 때 유용한다.\n",
    "\n",
    "아래 기본 예제는 리스트, 튜플, 배열에 `for` 루프를 돌릴 때 잘 동작한다. 딕셔너리에 루프를 돌리는 것은 약간 다르다. 왜냐하면, 딕셔너리 각 항목에 키와 값이 있기 때문이다. 좀더 자세한 정보는 파이썬 문서를 참조한다."
   ]
  },
  {
   "cell_type": "code",
   "execution_count": 25,
   "metadata": {
    "collapsed": false
   },
   "outputs": [
    {
     "name": "stdout",
     "output_type": "stream",
     "text": [
      "hi!\n",
      "hello!\n",
      "bye!\n"
     ]
    }
   ],
   "source": [
    "# for 루프 기본 - 공백을 잊지 않는다!\n",
    "wordlist = ['hi', 'hello', 'bye']\n",
    "for word in wordlist:\n",
    "    print(word + '!')"
   ]
  },
  {
   "cell_type": "markdown",
   "metadata": {},
   "source": [
    "** 들여쓰기 유의사항:** for 루프에 들어가면 들여쓰기에 유의한다. for 루프 선언 뒤에 들여쓴 모든 문장은 for 루프 일부다. 이런 규칙은 while 루프, if 문, 함수, 등에도 적용된다. 들여쓰기로 인해 파이썬이 가독성이 뛰어난 아름다운 언어가 된 이유 중의 하나다.\n",
    "\n",
    "만약 일관되지 못한 들여쓰기를 하면, `IndentationError`가 생긴다. 다행스럽게도, 코드 편집기 대다수는 들여쓰기가 올바르게 되도록 보장한다.\n",
    "\n",
    "__유의사항__ 파이썬에서 디폴트 기본설정, 공백 4개를 들여쓰기로 사용한다. 대부분의 편집기에서 파이썬을 사용할 때 이 지침을 따르게 환경설정할 수 있다."
   ]
  },
  {
   "cell_type": "code",
   "execution_count": 26,
   "metadata": {
    "collapsed": false
   },
   "outputs": [
    {
     "ename": "IndentationError",
     "evalue": "unindent does not match any outer indentation level (<ipython-input-26-421bbc79be09>, line 4)",
     "output_type": "error",
     "traceback": [
      "\u001b[1;36m  File \u001b[1;32m\"<ipython-input-26-421bbc79be09>\"\u001b[1;36m, line \u001b[1;32m4\u001b[0m\n\u001b[1;33m    print(new_word + '!') # Bad indent\u001b[0m\n\u001b[1;37m                                      ^\u001b[0m\n\u001b[1;31mIndentationError\u001b[0m\u001b[1;31m:\u001b[0m unindent does not match any outer indentation level\n"
     ]
    }
   ],
   "source": [
    "# 들여쓰기 오류: 고치세요! \n",
    "for word in wordlist:\n",
    "    new_word = word.capitalize()\n",
    "   print(new_word + '!') # Bad indent"
   ]
  },
  {
   "cell_type": "code",
   "execution_count": 27,
   "metadata": {
    "collapsed": false
   },
   "outputs": [
    {
     "name": "stdout",
     "output_type": "stream",
     "text": [
      "('Sum is', 85)\n"
     ]
    }
   ],
   "source": [
    "# for 루프를 사용해서 모임(collection)에 속한 모든 값을 합한다.\n",
    "numlist = [1, 4, 77, 3]\n",
    "\n",
    "total = 0\n",
    "for num in numlist:\n",
    "    total = total + num\n",
    "    \n",
    "print(\"Sum is\", total)"
   ]
  },
  {
   "cell_type": "code",
   "execution_count": 28,
   "metadata": {
    "collapsed": false
   },
   "outputs": [
    {
     "name": "stdout",
     "output_type": "stream",
     "text": [
      "['hi', 'hello', 'bye']\n",
      "(0, 'hi', 'hi')\n",
      "(1, 'hello', 'hello')\n",
      "(2, 'bye', 'bye')\n"
     ]
    }
   ],
   "source": [
    "# 종종 항목이 아니라, 모임(collection) 색인으로 루프를 돌리고자 한다면 다음과 같이 한다.\n",
    "print(wordlist)\n",
    "\n",
    "for i, word in enumerate(wordlist):\n",
    "    print(i, word, wordlist[i])"
   ]
  },
  {
   "cell_type": "code",
   "execution_count": null,
   "metadata": {
    "collapsed": false
   },
   "outputs": [],
   "source": [
    "# 얼마나 많이 루프를 돌릴지 알지 못하고, 특정 조건이 만족되면 멈추고자 할 때, while 루프가 유용하다.\n",
    "step = 0\n",
    "prod = 1\n",
    "while prod < 100:\n",
    "    step = step + 1\n",
    "    prod = prod * 2\n",
    "    print(step, prod)\n",
    "    \n",
    "print('Reached a product of', prod, 'at step number', step)"
   ]
  },
  {
   "cell_type": "markdown",
   "metadata": {},
   "source": [
    "__비법:__ 유용하고 대량으로 데이터 모임을 만들어내고 나서 수작업으로 결과를 검사하는 것은 거추장스럽다. 아래 코드에 배열을 매우 간단한 그림으로 표현하는 방법이 나와 있다. 추후 좀더 많은 데이터 도식화를 시도할 것이고, 단지 시작에 불과하다."
   ]
  },
  {
   "cell_type": "code",
   "execution_count": 30,
   "metadata": {
    "collapsed": false
   },
   "outputs": [
    {
     "data": {
      "text/plain": [
       "[<matplotlib.lines.Line2D at 0x557b750>]"
      ]
     },
     "execution_count": 30,
     "metadata": {},
     "output_type": "execute_result"
    },
    {
     "data": {
      "image/png": "[encoded data removed]",
      "text/plain": [
       "<matplotlib.figure.Figure at 0x5318a30>"
      ]
     },
     "metadata": {},
     "output_type": "display_data"
    }
   ],
   "source": [
    "# 유용한 도식화 라이브러리 pylab을 적재한다.\n",
    "%matplotlib inline\n",
    "import matplotlib.pyplot as plt\n",
    "\n",
    "# x 와 y 데이터를 생성하고 도식화한다.\n",
    "y = np.arange(100)**2\n",
    "plt.plot(y)"
   ]
  },
  {
   "cell_type": "markdown",
   "metadata": {},
   "source": [
    "### 예제 4 - 분산(Variance)\n",
    "\n",
    "이전에 수집한 신장의 분산을 계산한다.\n",
    "\n",
    "상기시키면, **표본 분산**은 평균에서 각 관측점 차이 제곱의 합으로 계산된다:\n",
    "\n",
    "###$variance = \\frac{\\Sigma{(x-평균)^2}}{n-1}$\n",
    "\n",
    "\n",
    "**평균**은 관측점의 평균이고, **x**는 각 관측점, **n**은 관측점 개수다.\n",
    "\n",
    "먼저, 평균을 계산한다:\n",
    "\n",
    "1. 신장 합계로 변수 `total`을 생성한다.\n",
    "2. `for` 루프를 사용해서, 각 신장을 `total`에 더한다.\n",
    "3. 합을 측정 개수로 나눠서 평균을 알아내고, `mean`으로 저장한다.\n",
    "\n",
    "__유의사항__: 리스트에서 사물 갯수를 얻으려면, `len(the_list)` 을 사용한다.\n",
    "\n",
    "이제, 또 다른 루프를 사용해서 분산을 계산한다:\n",
    "\n",
    "1. 차이 제곱 합계를 구할 `sum_diffsq` 변수를 생성한다.\n",
    "2. `heights`에 대해 돌릴 두번째 `for` 루프를 생성한다.\n",
    "  - 각 단계에서, 평균에서 신장을 뺀다. 그리고 이를 `diff`라고 부른다. \n",
    "  - 이것을 제곱하고 `diffsq`라고 부른다.\n",
    "  - `diffsq`를 `sum_diffsq`에 더한다.\n",
    "3. `diffsq`를 `n-1` 로 나눠서 분산을 얻는다.\n",
    "4. 분산을 화면에 출력한다.\n",
    "\n",
    "__유의사항__: 파이썬에서 숫자를 제곱하는데, `**`을 사용한다, 예를 들어. `5**2`.\n",
    "\n",
    "__보너스__\n",
    "\n",
    "1. `variance`가 0.01 보다 더 큰지 테스트하고 \"variance more than 0.01: \"를 출력하고, (참 True 혹은 거짓 False) 답도 출력하시오."
   ]
  },
  {
   "cell_type": "code",
   "execution_count": 59,
   "metadata": {
    "collapsed": false
   },
   "outputs": [
    {
     "name": "stdout",
     "output_type": "stream",
     "text": [
      "('Mean : ', 0)\n",
      "('Variance : ', 1)\n"
     ]
    }
   ],
   "source": [
    "#heights = [-1,0,1]\n",
    "total = 0\n",
    "for idx in heights:\n",
    "    total = total + idx\n",
    "mean = total/len(heights)    \n",
    "print(\"Mean : \", total/len(heights))\n",
    "\n",
    "sum_diffsq = 0\n",
    "for idx in heights:\n",
    "    diff = idx - mean\n",
    "    diffsq = diff ** 2\n",
    "    sum_diffsq = sum_diffsq + diffsq \n",
    "variance = sum_diffsq / (len(heights)-1)    \n",
    "print(\"Variance : \", variance)"
   ]
  },
  {
   "cell_type": "markdown",
   "metadata": {},
   "source": [
    "## 5. 선택하기 (Making choices)\n",
    "\n",
    "조건이 참인지 검사하고 나서 만약 참이면 이런 행동을 취하고, 만약 거짓이면, 다른 행동을 취하게 만든다.\n",
    "파이썬에서 `if` 문을 가지고 이런 작업을 수행한다.\n",
    "\n",
    "__비법:__ `if` 문에 부울 값(참 혹은 거짓, True or False)을 반환하는 어떤 표현식도 사용할 수 있다.\n",
    "일반적인 부울 연산자는 ==, !=, <, <=, >, >= 다. 변수 두개가 동일한지 점검하려면 `is` 와 `is not`을 사용한다. 즉, 두 변수가 동일한 메모리 위치에 저장되어 있다는 의미에서 그렇다."
   ]
  },
  {
   "cell_type": "code",
   "execution_count": null,
   "metadata": {
    "collapsed": false
   },
   "outputs": [],
   "source": [
    "# 단순 if 문.\n",
    "x = 3\n",
    "if x > 0:\n",
    "    print('x is positive')\n",
    "elif x < 0:\n",
    "    print('x is negative')\n",
    "else:\n",
    "    print('x is zero')"
   ]
  },
  {
   "cell_type": "code",
   "execution_count": 33,
   "metadata": {
    "collapsed": false
   },
   "outputs": [
    {
     "name": "stdout",
     "output_type": "stream",
     "text": [
      "<type 'bool'>\n",
      "False\n"
     ]
    }
   ],
   "source": [
    "# If 문에 부울 변수도 쓸 수 있다.\n",
    "x = -1\n",
    "test = (x > 0)\n",
    "print(type(test)); print(test)\n",
    "\n",
    "if test:\n",
    "    print('Test was true')"
   ]
  },
  {
   "cell_type": "markdown",
   "metadata": {},
   "source": [
    "## 6. 함수와 모듈로 덩어리(chunk) 생성하기\n",
    "\n",
    "프로그램을 작성하는 한 방식은 위에 기술된 것처럼 파일에 명령어를 쭉 작성하는 것이다.\n",
    "그리고 나서 결과를 생성하려고 파일을 실행한다. 이 방식이 잘 동작할 수도 있지만, 이러한 방식으로 작성된 프로그램 로직을 따라가는 것은 인지적으로 힘겹다. 또한, 코드를 쉽게 재사용하기 힘들게도 한다 - 예를 들어, 서로 다른 초기값을 갖는 로지스틱 성장 모형(logistic growth model)을 실행하면 어떨까?\n",
    "\n",
    "코드를 관리가능한 조각으로 쪼개 \"덩어리(chunk)\"로 만드는 가장 중요한 방법은 함수를 생성하고 나서 이러한 함수를 모아서 모듈로 만들고, 궁극적으로 팩키지화하는 것이다. 아래에서 함수와 모듈을 만드는 방법을 다룬다. 파이썬에서 \"덩어리(chunk)\"를 만드는 세번째 유형이 클래스지만, 이번 워크샵에서 객체지향 프로그래밍을 다루지는 않는다."
   ]
  },
  {
   "cell_type": "code",
   "execution_count": 34,
   "metadata": {
    "collapsed": false
   },
   "outputs": [
    {
     "name": "stdout",
     "output_type": "stream",
     "text": [
      "3.33\n",
      "-0.190567635651\n"
     ]
    }
   ],
   "source": [
    "# 하루 종일 함수를 사용했다.\n",
    "x = 3.333333\n",
    "print(round(x, 2))\n",
    "print(np.sin(x))"
   ]
  },
  {
   "cell_type": "code",
   "execution_count": 35,
   "metadata": {
    "collapsed": true
   },
   "outputs": [],
   "source": [
    "# 본인이 함수를 작성하는 것은 매우 쉽다.\n",
    "def multiply(x, y):\n",
    "    return x*y"
   ]
  },
  {
   "cell_type": "code",
   "execution_count": 36,
   "metadata": {
    "collapsed": false
   },
   "outputs": [
    {
     "name": "stdout",
     "output_type": "stream",
     "text": [
      "<type 'function'>\n",
      "12\n"
     ]
    }
   ],
   "source": [
    "# 함수가 실행되서, 메모리에 저장되면, 다른 함수처럼 이용가능하다.\n",
    "print(type(multiply))\n",
    "print(multiply(4, 3))"
   ]
  },
  {
   "cell_type": "code",
   "execution_count": 37,
   "metadata": {
    "collapsed": true
   },
   "outputs": [],
   "source": [
    "# docstrings을 포함해서 작성한 함수가 무슨 작업을 수행하는지 기술하는 것이 여러모로 유용한다.\n",
    "def say_hello(time, people):\n",
    "    '''\n",
    "    Function says a greeting. Useful for engendering goodwill\n",
    "    '''\n",
    "    return 'Good ' + time + ', ' + people"
   ]
  },
  {
   "cell_type": "markdown",
   "metadata": {},
   "source": [
    "**Docstrings**: docstring(문서문자열)은 함수가 무슨 작업을 하는지 일러주는 특별한 유형의 주석이다. 함수에 대한 도움말을 찾을 때 마주치는 것이다."
   ]
  },
  {
   "cell_type": "code",
   "execution_count": 39,
   "metadata": {
    "collapsed": false
   },
   "outputs": [
    {
     "data": {
      "text/plain": [
       "'Good afternoon, friends'"
      ]
     },
     "execution_count": 39,
     "metadata": {},
     "output_type": "execute_result"
    }
   ],
   "source": [
    "say_hello('afternoon', 'friends')"
   ]
  },
  {
   "cell_type": "code",
   "execution_count": 38,
   "metadata": {
    "collapsed": false
   },
   "outputs": [
    {
     "ename": "TypeError",
     "evalue": "say_hello() takes exactly 2 arguments (1 given)",
     "output_type": "error",
     "traceback": [
      "\u001b[1;31m---------------------------------------------------------------------------\u001b[0m",
      "\u001b[1;31mTypeError\u001b[0m                                 Traceback (most recent call last)",
      "\u001b[1;32m<ipython-input-38-6030d0cc44b7>\u001b[0m in \u001b[0;36m<module>\u001b[1;34m()\u001b[0m\n\u001b[0;32m      1\u001b[0m \u001b[1;31m# 인자 모두가 있어야 한다. 그렇지 않으면 함수는 오류를 뱉어낸다.\u001b[0m\u001b[1;33m\u001b[0m\u001b[1;33m\u001b[0m\u001b[0m\n\u001b[1;32m----> 2\u001b[1;33m \u001b[0msay_hello\u001b[0m\u001b[1;33m(\u001b[0m\u001b[1;34m'afternoon'\u001b[0m\u001b[1;33m)\u001b[0m\u001b[1;33m\u001b[0m\u001b[0m\n\u001b[0m",
      "\u001b[1;31mTypeError\u001b[0m: say_hello() takes exactly 2 arguments (1 given)"
     ]
    }
   ],
   "source": [
    "# 인자 모두가 있어야 한다. 그렇지 않으면 함수는 오류를 뱉어낸다.\n",
    "say_hello('afternoon')"
   ]
  },
  {
   "cell_type": "code",
   "execution_count": 42,
   "metadata": {
    "collapsed": true
   },
   "outputs": [],
   "source": [
    "# 인자에 디폴트 기본값을 부여해서, 예약어 인자 일부를 선택옵션인자로 만들 수 있다.\n",
    "# 모든 필수 인자는 순서대로 먼저 나와야 된다.\n",
    "def say_hello(time, people='friends'):\n",
    "    return 'Good ' + time + ', ' + people"
   ]
  },
  {
   "cell_type": "code",
   "execution_count": 43,
   "metadata": {
    "collapsed": false
   },
   "outputs": [
    {
     "data": {
      "text/plain": [
       "'Good afternoon, friends'"
      ]
     },
     "execution_count": 43,
     "metadata": {},
     "output_type": "execute_result"
    }
   ],
   "source": [
    "say_hello('afternoon')"
   ]
  },
  {
   "cell_type": "code",
   "execution_count": 40,
   "metadata": {
    "collapsed": false
   },
   "outputs": [
    {
     "data": {
      "text/plain": [
       "'Good afternoon, students'"
      ]
     },
     "execution_count": 40,
     "metadata": {},
     "output_type": "execute_result"
    }
   ],
   "source": [
    "say_hello('afternoon', 'students')"
   ]
  },
  {
   "cell_type": "markdown",
   "metadata": {},
   "source": [
    "### 예제 5 - 분산 함수 생성하기\n",
    "\n",
    "마지막으로, 분산 계산을 함수로 바꿔서 반복해서 오래오래 사용하자.\n",
    "예제 4 코드를 복사한 다음에 다음을 작성한다:\n",
    "\n",
    "1. 리스트 값을 인자로 받아 분산을 반환하는 함수, `calculate_variance`로 코드를 바꾼다.\n",
    "1. 작성한 함수가 어떤 작업을 수행하는지 기술하는 docstring을 멋지게 작성한다.\n",
    "1. 다른 값을 갖는 숫자로 작성한 함수를 호출해서 잘 동작하는지 확인한다.\n",
    "\n",
    "__보너스__\n",
    "\n",
    "1. 평균을 계산하는 부분을 뽑아내서 별도 함수로 만들어  `calculate_variance` 함수 내부에서 호출하도록 리팩토링 하시오.\n",
    "1. 모든 데이터가 정수형일 때도 정상적으로 동작하도록 확실히 하세요.\n",
    "1. 빈 리스트가 전달될 때, 더 나은 오류 메시지를 주게 만드시오. 웹을 사용해서 파이썬에서 예외처리하는 방법을 알아내시오."
   ]
  },
  {
   "cell_type": "code",
   "execution_count": 62,
   "metadata": {
    "collapsed": false
   },
   "outputs": [
    {
     "name": "stdout",
     "output_type": "stream",
     "text": [
      "('Variances from Function: ', 1)\n"
     ]
    }
   ],
   "source": [
    "heights = [-1,0,1]\n",
    "\n",
    "def calculate_variance(heights):\n",
    "    '''\n",
    "    Calculate Variance of Sample\n",
    "    sample --> list, result --> variance\n",
    "    '''\n",
    "\n",
    "    mean = calculate_mean(heights)\n",
    "    \n",
    "    sum_diffsq = 0\n",
    "    for idx in heights:\n",
    "        diff = idx - mean\n",
    "        diffsq = diff ** 2\n",
    "        sum_diffsq = sum_diffsq + diffsq \n",
    "    variance = sum_diffsq / (len(heights)-1)    \n",
    "#    print(\"Variance : \", variance)\n",
    "    return variance\n",
    "\n",
    "def calculate_mean(heights):\n",
    "    '''\n",
    "    Calculate Sample Mean\n",
    "    input : list --> mean\n",
    "    '''\n",
    "    total = 0\n",
    "    for idx in heights:\n",
    "        total = total + idx\n",
    "    mean = total/len(heights)    \n",
    "#    print(\"Mean : \", total/len(heights))\n",
    "    return mean\n",
    "    \n",
    "print(\"Variances from Function: \", calculate_variance(heights))"
   ]
  },
  {
   "cell_type": "markdown",
   "metadata": {},
   "source": [
    "### 예제 6 - 모듈에 `calculate_mean` 과 `calculate_variance` 를 넣으세요.\n",
    "\n",
    "`numpy`를 가지고 했던 것과 동일한 방식으로, 함수를 가져올 수 있는 모듈에 넣어서 좀더 쉽게 재사용하게 함수를 만들 수 있다. 모듈을 만드는 것은 매우 간단하다.\n",
    "\n",
    "1. 함수를 새 텍스트 파일로 복사한다. 단, 노트북(notebook)과 동일한 디렉토리여야 한다. 그리고 `stats.py`라고 이름 붙인다.\n",
    "1. 모듈을 가져오려면, `import stats`을 타이핑한다. `stats.`을 입력하고 탭을 치면 모듈에 이용가능한 함수가 나타난다. 가져온 모듈을 사용해서 신장 표본(혹은 다른 난수)의 분산을 계산해본다."
   ]
  },
  {
   "cell_type": "code",
   "execution_count": 89,
   "metadata": {
    "collapsed": false
   },
   "outputs": [
    {
     "data": {
      "text/plain": [
       "1"
      ]
     },
     "execution_count": 89,
     "metadata": {},
     "output_type": "execute_result"
    }
   ],
   "source": [
    "import stats\n",
    "stats.calculate_variance(heights)"
   ]
  },
  {
   "cell_type": "code",
   "execution_count": null,
   "metadata": {
    "collapsed": true
   },
   "outputs": [],
   "source": []
  }
 ],
 "metadata": {
  "kernelspec": {
   "display_name": "Python 2",
   "language": "python",
   "name": "python2"
  },
  "language_info": {
   "codemirror_mode": {
    "name": "ipython",
    "version": 2
   },
   "file_extension": ".py",
   "mimetype": "text/x-python",
   "name": "python",
   "nbconvert_exporter": "python",
   "pygments_lexer": "ipython2",
   "version": "2.7.8"
  }
 },
 "nbformat": 4,
 "nbformat_minor": 0
}
